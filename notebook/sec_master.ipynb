{
 "cells": [
  {
   "cell_type": "code",
   "execution_count": 1,
   "metadata": {},
   "outputs": [],
   "source": [
    "from datetime import date\n",
    "import awswrangler as wr\n",
    "import pandas as pd"
   ]
  },
  {
   "cell_type": "code",
   "execution_count": 2,
   "metadata": {},
   "outputs": [],
   "source": [
    "import boto3\n",
    "boto3.setup_default_session(profile_name=\"quannguyen\")"
   ]
  },
  {
   "cell_type": "code",
   "execution_count": 3,
   "metadata": {},
   "outputs": [],
   "source": [
    "s3_path = \"s3://upskills-landing-zone/secmaster/USSECMASTER_ALL20220525.XLS\""
   ]
  },
  {
   "cell_type": "code",
   "execution_count": 16,
   "metadata": {},
   "outputs": [],
   "source": [
    "df = wr.s3.read_excel(s3_path, skiprows=4)"
   ]
  },
  {
   "cell_type": "code",
   "execution_count": 17,
   "metadata": {},
   "outputs": [
    {
     "name": "stdout",
     "output_type": "stream",
     "text": [
      "<class 'pandas.core.frame.DataFrame'>\n",
      "RangeIndex: 6145 entries, 0 to 6144\n",
      "Data columns (total 50 columns):\n",
      " #   Column              Non-Null Count  Dtype  \n",
      "---  ------              --------------  -----  \n",
      " 0   Symbol              6144 non-null   object \n",
      " 1   Name                6144 non-null   object \n",
      " 2   COMPANYNAME         6144 non-null   object \n",
      " 3   SYMBOL              6144 non-null   object \n",
      " 4   CUSIP               6144 non-null   object \n",
      " 5   SEDOL               6144 non-null   object \n",
      " 6   ISIN                6144 non-null   object \n",
      " 7   COUNTRYID           6144 non-null   float64\n",
      " 8   EXCHANGECOUNTRY     6144 non-null   object \n",
      " 9   COUNTRY             6144 non-null   object \n",
      " 10  EXCHANGENAME        6144 non-null   object \n",
      " 11  FSSECTOR            6144 non-null   object \n",
      " 12  FSIND               6144 non-null   object \n",
      " 13  FSSECTORN           6144 non-null   float64\n",
      " 14  FSINDN              6144 non-null   float64\n",
      " 15  GICSSECTOR          6144 non-null   object \n",
      " 16  GICSIND             6144 non-null   object \n",
      " 17  GICSINDGRP          6144 non-null   object \n",
      " 18  GICSSUBIND          6144 non-null   object \n",
      " 19  ISONFF              6144 non-null   float64\n",
      " 20  CURRFF              6144 non-null   object \n",
      " 21  FXRATEECON          6144 non-null   float64\n",
      " 22  FXRATE              6144 non-null   float64\n",
      " 23  CURREC              6144 non-null   object \n",
      " 24  DATETRADING         5323 non-null   float64\n",
      " 25  FISCALYEAREC        5309 non-null   float64\n",
      " 26  DATETRADING.1       6144 non-null   float64\n",
      " 27  PRICEUSD            6144 non-null   float64\n",
      " 28  PRICEFF             6136 non-null   float64\n",
      " 29  PRICEEC             6144 non-null   float64\n",
      " 30  PRICELOC            6144 non-null   float64\n",
      " 31  PRICECLOSE          6144 non-null   float64\n",
      " 32  PRICEOPEN           6144 non-null   float64\n",
      " 33  PRICEHIGH           6144 non-null   float64\n",
      " 34  PRICELOW            6144 non-null   float64\n",
      " 35  VOLUME              6144 non-null   float64\n",
      " 36  MARKETVALUEUSD      6144 non-null   float64\n",
      " 37  MSHARESOUTSTANDING  6127 non-null   float64\n",
      " 38  SPLITADJUSTFACTOR   6144 non-null   float64\n",
      " 39  SPLITADJUSTMENT     6144 non-null   float64\n",
      " 40  DPS                 6144 non-null   float64\n",
      " 41  30ADV               6144 non-null   float64\n",
      " 42  60ADV               6144 non-null   float64\n",
      " 43  PRETLOC             6144 non-null   float64\n",
      " 44  PRETUSD             6144 non-null   float64\n",
      " 45  TRETLOC             6144 non-null   float64\n",
      " 46  TRETUSD             6144 non-null   float64\n",
      " 47  ANALYSTCOV          4867 non-null   float64\n",
      " 48  RNDLOTS             6144 non-null   float64\n",
      " 49  Unnamed: 49         6144 non-null   float64\n",
      "dtypes: float64(32), object(18)\n",
      "memory usage: 2.3+ MB\n"
     ]
    }
   ],
   "source": [
    "df.info()"
   ]
  },
  {
   "attachments": {},
   "cell_type": "markdown",
   "metadata": {},
   "source": [
    "- Drop rows with full `nan`"
   ]
  },
  {
   "cell_type": "code",
   "execution_count": 18,
   "metadata": {},
   "outputs": [],
   "source": [
    "df.dropna(how='all', inplace=True)"
   ]
  },
  {
   "attachments": {},
   "cell_type": "markdown",
   "metadata": {},
   "source": [
    "- Rename columns: \n",
    "    - 'SYMBOL' to 'SymbolCountry'"
   ]
  },
  {
   "cell_type": "code",
   "execution_count": 19,
   "metadata": {},
   "outputs": [],
   "source": [
    "df.drop(columns=[\"Unnamed: 49\"], inplace=True)"
   ]
  },
  {
   "cell_type": "code",
   "execution_count": 20,
   "metadata": {},
   "outputs": [],
   "source": [
    "df.rename(columns={\"SYMBOL\": \"SymbolCountry\"}, inplace=True)"
   ]
  },
  {
   "cell_type": "code",
   "execution_count": 21,
   "metadata": {},
   "outputs": [],
   "source": [
    "# convert float to int:\n",
    "int_cols = ['COUNTRYID', 'FSSECTORN', 'FSINDN', 'ISONFF', 'RNDLOTS']\n",
    "for col in int_cols:\n",
    "    # convert null to float first and then to nullable Int32\n",
    "    df[col] = df[col].astype(float).astype(\"Int32\")"
   ]
  },
  {
   "attachments": {},
   "cell_type": "markdown",
   "metadata": {},
   "source": [
    "- There are 2 `DATETRADING` columns, so drop the one with more `nan` values\n",
    "- convert column to `np.datetime` format"
   ]
  },
  {
   "cell_type": "code",
   "execution_count": 22,
   "metadata": {},
   "outputs": [],
   "source": [
    "temp_df = df['DATETRADING.1'] if df['DATETRADING'].isna().sum() > df['DATETRADING.1'].isna().sum() else df['DATETRADING']"
   ]
  },
  {
   "cell_type": "code",
   "execution_count": 23,
   "metadata": {},
   "outputs": [],
   "source": [
    "df.drop(columns=['DATETRADING', 'DATETRADING.1'], inplace=True)"
   ]
  },
  {
   "cell_type": "code",
   "execution_count": 24,
   "metadata": {},
   "outputs": [],
   "source": [
    "df['DATETRADING'] = pd.to_datetime(temp_df, format=\"%Y%m%d\")"
   ]
  },
  {
   "attachments": {},
   "cell_type": "markdown",
   "metadata": {},
   "source": [
    "- Convert `FISCALYEAREC` to `datetime` as well"
   ]
  },
  {
   "cell_type": "code",
   "execution_count": 25,
   "metadata": {},
   "outputs": [],
   "source": [
    "df['FISCALYEAREC'] = pd.to_datetime(df['FISCALYEAREC'], format='%Y%m')"
   ]
  },
  {
   "attachments": {},
   "cell_type": "markdown",
   "metadata": {},
   "source": [
    "- Create partition columns"
   ]
  },
  {
   "cell_type": "code",
   "execution_count": 40,
   "metadata": {},
   "outputs": [],
   "source": [
    "df['YEAR'] = df['DATETRADING'].dt.year\n",
    "df['MONTH'] = df['DATETRADING'].dt.month"
   ]
  },
  {
   "cell_type": "code",
   "execution_count": null,
   "metadata": {},
   "outputs": [],
   "source": [
    "\n",
    "# Write to S3\n",
    "wr_response = wr.s3.to_parquet(\n",
    "    df=df,\n",
    "    path=os_input_s3_cleansed_layer,\n",
    "    dataset=True,\n",
    "    database=os_input_glue_catalog_db_name,\n",
    "    table=os_input_glue_catalog_table_name,\n",
    "    mode=os_input_write_data_operation,\n",
    "    partition_cols=['COUNTRY', 'YEAR', 'MONTH', 'DAY'],\n",
    ")"
   ]
  },
  {
   "cell_type": "code",
   "execution_count": 2,
   "metadata": {},
   "outputs": [],
   "source": [
    "import pandas as pd"
   ]
  },
  {
   "cell_type": "code",
   "execution_count": 3,
   "metadata": {},
   "outputs": [],
   "source": [
    "df = pd.read_parquet('../data/aws_demo.snappy.parquet')"
   ]
  },
  {
   "cell_type": "code",
   "execution_count": 4,
   "metadata": {},
   "outputs": [
    {
     "data": {
      "text/plain": [
       "(700, 47)"
      ]
     },
     "execution_count": 4,
     "metadata": {},
     "output_type": "execute_result"
    }
   ],
   "source": [
    "df.shape"
   ]
  },
  {
   "cell_type": "code",
   "execution_count": null,
   "metadata": {},
   "outputs": [],
   "source": []
  }
 ],
 "metadata": {
  "kernelspec": {
   "display_name": "venv",
   "language": "python",
   "name": "python3"
  },
  "language_info": {
   "codemirror_mode": {
    "name": "ipython",
    "version": 3
   },
   "file_extension": ".py",
   "mimetype": "text/x-python",
   "name": "python",
   "nbconvert_exporter": "python",
   "pygments_lexer": "ipython3",
   "version": "3.11.3"
  },
  "orig_nbformat": 4
 },
 "nbformat": 4,
 "nbformat_minor": 2
}
